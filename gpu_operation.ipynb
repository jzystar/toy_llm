{
 "cells": [
  {
   "cell_type": "code",
   "execution_count": 1,
   "metadata": {},
   "outputs": [
    {
     "name": "stdout",
     "output_type": "stream",
     "text": [
      "2.6.0+cu124\n",
      "True\n"
     ]
    }
   ],
   "source": [
    "import torch\n",
    "print(torch.__version__)\n",
    "print(torch.cuda.is_available())"
   ]
  },
  {
   "cell_type": "code",
   "execution_count": 14,
   "metadata": {},
   "outputs": [
    {
     "name": "stdout",
     "output_type": "stream",
     "text": [
      "tensor([5, 7, 9])\n"
     ]
    }
   ],
   "source": [
    "tensor1 = torch.tensor([1,2,3])\n",
    "tensor2 = torch.tensor([4,5,6])\n",
    "print(tensor1 + tensor2)\n"
   ]
  },
  {
   "cell_type": "code",
   "execution_count": 16,
   "metadata": {},
   "outputs": [
    {
     "name": "stdout",
     "output_type": "stream",
     "text": [
      "tensor([5, 7, 9], device='cuda:0')\n"
     ]
    }
   ],
   "source": [
    "tensor1 = tensor1.to(\"cuda\")\n",
    "tensor2 = tensor2.to(\"cuda\")\n",
    "\n",
    "print(tensor1 + tensor2)"
   ]
  },
  {
   "cell_type": "code",
   "execution_count": 17,
   "metadata": {},
   "outputs": [
    {
     "name": "stdout",
     "output_type": "stream",
     "text": [
      "tensor([1, 2, 3])\n",
      "tensor([4, 5, 6], device='cuda:0')\n"
     ]
    },
    {
     "ename": "RuntimeError",
     "evalue": "Expected all tensors to be on the same device, but found at least two devices, cuda:0 and cpu!",
     "output_type": "error",
     "traceback": [
      "\u001b[0;31m---------------------------------------------------------------------------\u001b[0m",
      "\u001b[0;31mRuntimeError\u001b[0m                              Traceback (most recent call last)",
      "Cell \u001b[0;32mIn[17], line 6\u001b[0m\n\u001b[1;32m      4\u001b[0m \u001b[38;5;28mprint\u001b[39m(tensor1)\n\u001b[1;32m      5\u001b[0m \u001b[38;5;28mprint\u001b[39m(tensor2)\n\u001b[0;32m----> 6\u001b[0m \u001b[38;5;28mprint\u001b[39m(\u001b[43mtensor1\u001b[49m\u001b[43m \u001b[49m\u001b[38;5;241;43m+\u001b[39;49m\u001b[43m \u001b[49m\u001b[43mtensor2\u001b[49m)\n",
      "\u001b[0;31mRuntimeError\u001b[0m: Expected all tensors to be on the same device, but found at least two devices, cuda:0 and cpu!"
     ]
    }
   ],
   "source": [
    "tensor1 = tensor1.to(\"cpu\")\n",
    "tensor2 = tensor2.to(\"cuda\")\n",
    "\n",
    "print(tensor1)\n",
    "print(tensor2)\n",
    "print(tensor1 + tensor2)"
   ]
  },
  {
   "cell_type": "code",
   "execution_count": 20,
   "metadata": {},
   "outputs": [],
   "source": [
    "x_train = torch.tensor([\n",
    "    [-1.2, 3.1],\n",
    "    [-0.9, 2.9],\n",
    "    [-0.5, 2.6],\n",
    "    [2.3, -1.1],\n",
    "    [2.7, -1.5]\n",
    "])\n",
    "\n",
    "y_train = torch.tensor([0, 0, 0, 1, 1])\n",
    "\n",
    "x_test = torch.tensor([\n",
    "    [-0.8, 2.8],\n",
    "    [2.6, -1.6],\n",
    "])\n",
    "\n",
    "y_test = torch.tensor([0, 1])"
   ]
  },
  {
   "cell_type": "code",
   "execution_count": 25,
   "metadata": {},
   "outputs": [],
   "source": [
    "from torch.utils.data import Dataset\n",
    "class ToyDataset(Dataset):\n",
    "    def __init__(self, x, y):\n",
    "        self.feetures = x\n",
    "        self.labels = y\n",
    "    def __getitem__(self, idx):\n",
    "        return self.feetures[idx], self.labels[idx]\n",
    "    \n",
    "    def __len__(self):\n",
    "        return self.labels.size()[0]\n",
    "\n",
    "train_ds = ToyDataset(x_train, y_train)\n",
    "test_ds = ToyDataset(x_test, y_test)"
   ]
  },
  {
   "cell_type": "code",
   "execution_count": 26,
   "metadata": {},
   "outputs": [],
   "source": [
    "from torch.utils.data import DataLoader\n",
    "\n",
    "train_loader = DataLoader(\n",
    "    batch_size = 2,\n",
    "    dataset=train_ds,\n",
    "    shuffle = True,\n",
    "    num_workers = 1,\n",
    "    drop_last = True\n",
    ")\n",
    "\n",
    "test_loader =  DataLoader(\n",
    "    batch_size = 2,\n",
    "    dataset = test_ds,\n",
    "    shuffle = False,\n",
    "    num_workers = 1\n",
    "    )"
   ]
  },
  {
   "cell_type": "code",
   "execution_count": 31,
   "metadata": {},
   "outputs": [],
   "source": [
    "class NeuralNetwork(torch.nn.Module):\n",
    "    def __init__(self, num_inputs, num_outputs):\n",
    "        super().__init__()\n",
    "\n",
    "        self.layers = torch.nn.Sequential(\n",
    "            torch.nn.Linear(num_inputs, 30),\n",
    "            torch.nn.ReLU(),\n",
    "            torch.nn.Linear(30, 20),\n",
    "            torch.nn.ReLU(),\n",
    "            torch.nn.Linear(20, num_outputs)\n",
    "        )\n",
    "    \n",
    "    def forward(self, x):\n",
    "        return self.layers(x)"
   ]
  },
  {
   "cell_type": "code",
   "execution_count": 36,
   "metadata": {},
   "outputs": [
    {
     "name": "stdout",
     "output_type": "stream",
     "text": [
      "Epoch: 001/003 | Batch 000/002 | Train/Val Loss: 0.75\n",
      "Epoch: 001/003 | Batch 001/002 | Train/Val Loss: 0.65\n",
      "Epoch: 002/003 | Batch 000/002 | Train/Val Loss: 0.44\n",
      "Epoch: 002/003 | Batch 001/002 | Train/Val Loss: 0.13\n",
      "Epoch: 003/003 | Batch 000/002 | Train/Val Loss: 0.03\n",
      "Epoch: 003/003 | Batch 001/002 | Train/Val Loss: 0.00\n"
     ]
    }
   ],
   "source": [
    "import torch.nn.functional as F\n",
    "\n",
    "torch.manual_seed(123)\n",
    "model = NeuralNetwork(2, 2)\n",
    "device = torch.device('cuda' if torch.cuda.is_available() else 'cpu')\n",
    "model.to(device)\n",
    "\n",
    "optimizer = torch.optim.SGD(model.parameters(), lr = 0.5)\n",
    "\n",
    "num_epochs = 3\n",
    "\n",
    "for epoch in range(num_epochs):\n",
    "    model.train()\n",
    "    for batch_idx, (features, labels) in enumerate(train_loader):\n",
    "        features = features.to(device)\n",
    "        labels = labels.to(device)\n",
    "\n",
    "        logits = model(features)\n",
    "\n",
    "        loss = F.cross_entropy(logits, labels)\n",
    "\n",
    "        optimizer.zero_grad()\n",
    "        loss.backward()\n",
    "        optimizer.step()\n",
    "\n",
    "        print(f\"Epoch: {epoch+1:03d}/{num_epochs:03d}\"\n",
    "        f\" | Batch {batch_idx:03d}/{len(train_loader):03d}\"\n",
    "        f\" | Train/Val Loss: {loss:.2f}\")\n",
    "    \n"
   ]
  },
  {
   "cell_type": "code",
   "execution_count": 47,
   "metadata": {},
   "outputs": [
    {
     "name": "stdout",
     "output_type": "stream",
     "text": [
      "tensor(4., device='cuda:0')\n",
      "4\n"
     ]
    },
    {
     "data": {
      "text/plain": [
       "1.0"
      ]
     },
     "execution_count": 47,
     "metadata": {},
     "output_type": "execute_result"
    }
   ],
   "source": [
    "def compute_accuracy(model, dataloader, device):\n",
    "    model = model.eval()\n",
    "\n",
    "    total_samples = 0\n",
    "    correct = 0.0\n",
    "\n",
    "    for idx, (features, labels) in enumerate(dataloader):\n",
    "        features, labels = features.to(device), labels.to(device)\n",
    "        with torch.no_grad():\n",
    "            logits = model(features)\n",
    "        predictions = torch.argmax(logits, dim=1)\n",
    "        compare = predictions == labels\n",
    "        correct += torch.sum(compare)\n",
    "        total_samples += len(labels)\n",
    "    \n",
    "    print(correct)\n",
    "    print(total_samples)\n",
    "    return (correct / total_samples).item()\n",
    "\n",
    "compute_accuracy(model, train_loader, device)"
   ]
  },
  {
   "cell_type": "code",
   "execution_count": 46,
   "metadata": {},
   "outputs": [
    {
     "data": {
      "text/plain": [
       "1.0"
      ]
     },
     "execution_count": 46,
     "metadata": {},
     "output_type": "execute_result"
    }
   ],
   "source": [
    "compute_accuracy(model, test_loader, device)"
   ]
  },
  {
   "cell_type": "code",
   "execution_count": 48,
   "metadata": {},
   "outputs": [
    {
     "name": "stdout",
     "output_type": "stream",
     "text": [
      "tensor([[0.2685, 0.0509, 0.9271,  ..., 0.5914, 0.0210, 0.9812],\n",
      "        [0.0329, 0.6061, 0.9745,  ..., 0.9689, 0.5822, 0.0803],\n",
      "        [0.2396, 0.8363, 0.8285,  ..., 0.5764, 0.8628, 0.5481],\n",
      "        ...,\n",
      "        [0.5843, 0.4933, 0.0608,  ..., 0.2430, 0.1392, 0.5189],\n",
      "        [0.0675, 0.6011, 0.6413,  ..., 0.7234, 0.5660, 0.6187],\n",
      "        [0.1124, 0.7112, 0.7733,  ..., 0.5626, 0.9121, 0.7821]])\n",
      "tensor([[0.2828, 0.8567, 0.2939,  ..., 0.6882, 0.3946, 0.7968],\n",
      "        [0.4328, 0.4931, 0.9721,  ..., 0.8812, 0.1221, 0.1658],\n",
      "        [0.5235, 0.7006, 0.7571,  ..., 0.8756, 0.1302, 0.4546],\n",
      "        ...,\n",
      "        [0.7286, 0.6667, 0.3200,  ..., 0.1797, 0.2101, 0.6039],\n",
      "        [0.5912, 0.5550, 0.1672,  ..., 0.4763, 0.5762, 0.4931],\n",
      "        [0.1444, 0.2252, 0.4239,  ..., 0.3175, 0.3135, 0.9397]])\n"
     ]
    }
   ],
   "source": [
    "a = torch.rand(100, 200)\n",
    "b = torch.rand(200, 300)\n",
    "print(a)\n",
    "print(b)"
   ]
  },
  {
   "cell_type": "code",
   "execution_count": 49,
   "metadata": {},
   "outputs": [
    {
     "name": "stdout",
     "output_type": "stream",
     "text": [
      "22.8 μs ± 991 ns per loop (mean ± std. dev. of 7 runs, 10,000 loops each)\n"
     ]
    }
   ],
   "source": [
    "%timeit a @ b"
   ]
  },
  {
   "cell_type": "code",
   "execution_count": 50,
   "metadata": {},
   "outputs": [
    {
     "name": "stdout",
     "output_type": "stream",
     "text": [
      "8.05 μs ± 225 ns per loop (mean ± std. dev. of 7 runs, 100,000 loops each)\n"
     ]
    }
   ],
   "source": [
    "a = a.to(\"cuda\")\n",
    "b = b.to(\"cuda\")\n",
    "%timeit a@b"
   ]
  },
  {
   "cell_type": "code",
   "execution_count": null,
   "metadata": {},
   "outputs": [],
   "source": []
  }
 ],
 "metadata": {
  "kernelspec": {
   "display_name": "llama_factory",
   "language": "python",
   "name": "python3"
  },
  "language_info": {
   "codemirror_mode": {
    "name": "ipython",
    "version": 3
   },
   "file_extension": ".py",
   "mimetype": "text/x-python",
   "name": "python",
   "nbconvert_exporter": "python",
   "pygments_lexer": "ipython3",
   "version": "3.11.11"
  }
 },
 "nbformat": 4,
 "nbformat_minor": 2
}
